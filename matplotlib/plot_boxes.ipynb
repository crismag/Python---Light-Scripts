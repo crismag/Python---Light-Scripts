{
 "cells": [
  {
   "cell_type": "code",
   "execution_count": 44,
   "metadata": {},
   "outputs": [],
   "source": [
    "import matplotlib.pyplot as plt\n",
    "from matplotlib.patches import Rectangle\n",
    "import random\n",
    "import csv\n",
    "import pathlib\n",
    "import time\n",
    "import re\n",
    "import pandas as pd\n",
    "import os"
   ]
  },
  {
   "cell_type": "code",
   "execution_count": 45,
   "metadata": {
    "scrolled": true
   },
   "outputs": [],
   "source": [
    "def pdTableReader(fn):\n",
    "    return pd.read_csv(fn, header=None,names=['PD','x1','y1','x2','y2','rotation','scale','size_x','size_y'])\n",
    "\n",
    "def ccfReader(fn):\n",
    "    return pd.read_csv(fn,encoding= \"UTF 8\" , header=None, names=['PD','CCF_LIST'])\n",
    "\n",
    "def newListProcessor(pdTbl,ccf_data):\n",
    "    new_list = []\n",
    "    FRAME_COORD = []\n",
    "    \n",
    "    # New df not used.\n",
    "    newdf = pd.DataFrame({'PD': pd.Series(dtype='str'),\n",
    "                   'x1': pd.Series(dtype='float'),\n",
    "                   'y1': pd.Series(dtype='float'),\n",
    "                   'x2': pd.Series(dtype='float'),\n",
    "                   'y2': pd.Series(dtype='float')})\n",
    "    \n",
    "    rx = re.compile(\"{(\\S+)\\s+(\\S+)\\s+\\S+\\s+\\S+\\s+\\S+}+\")\n",
    "    for (row,val) in ccf_data.iterrows():\n",
    "        primeDie = ccf_data['PD'][row]\n",
    "        search_pd = pdTbl['PD'].str.contains(primeDie)\n",
    "        if search_pd.any() == None:\n",
    "            continue\n",
    "        if primeDie == 'FRAME':\n",
    "            FRAME_COORD = val[1]\n",
    "            continue\n",
    "        pd_x1 = pdTbl.loc[pdTbl['PD'] == primeDie, 'x1'].item()\n",
    "        pd_y1 = pdTbl.loc[pdTbl['PD'] == primeDie, 'y1'].item()\n",
    "        pd_x2 = pdTbl.loc[pdTbl['PD'] == primeDie, 'x2'].item()\n",
    "        pd_y2 = pdTbl.loc[pdTbl['PD'] == primeDie, 'y2'].item()\n",
    "        ccfl = ccf_data['CCF_LIST'][row]\n",
    "        rx = re.compile(\"{(\\S+)\\s+(\\S+)\\s+\\S+}+\")\n",
    "        coordl = re.findall(rx,ccfl)\n",
    "        for x1,y1 in coordl:\n",
    "            fx1 = float(x1) + pd_x1\n",
    "            fy1 = float(y1) + pd_y1        \n",
    "            fx2 = float(x1) + pd_x2\n",
    "            fy2 = float(y1) + pd_y2\n",
    "            new_list.append([primeDie,round(fx1,2),round(fy1,2),round(fx2,2),round(fy2,2)])\n",
    "\n",
    "    FC = FRAME_COORD.split()\n",
    "    FC = [float(x) for x in FC]\n",
    "    FC.insert(0,'FRAME')\n",
    "    new_list.append(FC)\n",
    "    #new_df = pd.DataFrame(new_list,columns=('PD','x1','y1','x2','y2'))\n",
    "    \n",
    "    return new_list,FC\n",
    "    "
   ]
  },
  {
   "cell_type": "code",
   "execution_count": 46,
   "metadata": {},
   "outputs": [],
   "source": [
    "def draw_rectangle(frame,name,x1,y1,x2,y2):\n",
    "    x3, y3 = x2, y1\n",
    "    x4, y4 = x1, y2\n",
    "    color  = ['lightblue','lightgreen','salmon','lavender','coral']\n",
    "    ecolor = random.choice(color)\n",
    "    \n",
    "    if name =='FRAME':\n",
    "        facecolor='white'\n",
    "        ecolor = 'black'\n",
    "        linewidth = 2\n",
    "    else:\n",
    "        linewidth = 1\n",
    "        facecolor= 'None'\n",
    "\n",
    "    rect = Rectangle((x1,y1), x2-x1, y2-y1,linewidth=linewidth, edgecolor=ecolor,facecolor=facecolor)\n",
    "    frame.add_patch(rect)\n",
    "    return rect"
   ]
  },
  {
   "cell_type": "code",
   "execution_count": 47,
   "metadata": {},
   "outputs": [],
   "source": [
    "def add_text(frame,name,x1,y1,x2,y2):\n",
    "    x_center = (x1 + x2) / 2\n",
    "    y_center = (y1 + y2) / 2\n",
    "    aspect_ratio = (x2 - x1) / (y2 - y1)\n",
    "    rotation = 0 if aspect_ratio >= 1 else 90\n",
    "    transform = frame.transData\n",
    "    fontsize = 8\n",
    "    fontdict = {'fontsize' : fontsize}\n",
    "    fobj = frame.text(x_center,y_center,name,ha='center',va='center',\n",
    "         rotation=rotation,transform=transform,bbox=None,fontdict=fontdict,color='salmon')\n",
    "    #while fobj.get_window_extent(renderer=None).width > (x2 - x1) * 0.9 or fobj.get_window_extent(renderer=None).height > (y2 - y1) * 0.9:\n",
    "    #    fontsize -= 1\n",
    "    #    fontdict = {'fontsize' : fontsize}\n",
    "    #    fobj.set_fontdict(fontdict)\n",
    "    #    plt.draw()\n",
    "    \n",
    "    #bbox = dict(boxstyle='None',alpha=1.0)\n",
    "    #frame.text(x_center,y_center,name,ha='center',va='center',rotation=rotation,transform=transform,bbox=None)\n",
    "    return"
   ]
  },
  {
   "cell_type": "code",
   "execution_count": 48,
   "metadata": {
    "scrolled": true
   },
   "outputs": [],
   "source": [
    "def draw_figure(new_list,FC):\n",
    "    plt.figure(figsize=(15,15))\n",
    "    plt.autoscale(enable=False)\n",
    "    plt.axis('scaled')\n",
    "    frame = plt.gca()\n",
    "    rect = draw_rectangle(frame,*FC)\n",
    "    for plts in new_list:\n",
    "        if plts[0] == \"FRAME\":\n",
    "            continue\n",
    "        draw_rectangle(frame,*plts)\n",
    "        #add_text(frame,*plts)\n",
    "    frame.axes.get_xaxis().set_visible(False)\n",
    "    frame.axes.get_yaxis().set_visible(False)\n",
    "    frame.set_xlim(FC[1],FC[3])\n",
    "    frame.set_ylim(FC[2],FC[4])\n",
    "    plt.title('SITE CLUSTER SELECTION RESULT', fontsize=24)\n",
    "    plt.autoscale(enable=True)\n",
    "    plt.axis('scaled')\n",
    "    image_out=\"cristest.png\"\n",
    "    plt.savefig(image_out,dpi=300, transparent=True)\n",
    "    plt.show()\n",
    "    return os.path.normpath(image_out)"
   ]
  },
  {
   "cell_type": "code",
   "execution_count": 49,
   "metadata": {},
   "outputs": [],
   "source": [
    "def main():\n",
    "    ccf_file = pathlib.Path(r'./photos_and_picture_frame.ccf')\n",
    "    csv_file = pathlib.Path(r'./photo_picture_sizes.csv')\n",
    "    pdTbl = pdTableReader(csv_file)\n",
    "    ccf_data = ccfReader(ccf_file)\n",
    "    new_list,FC = newListProcessor(pdTbl,ccf_data)\n",
    "    new_img = draw_figure(new_list,FC)\n",
    "    print(new_img)\n",
    "    return\n"
   ]
  },
  {
   "cell_type": "code",
   "execution_count": 50,
   "metadata": {},
   "outputs": [
    {
     "data": {
      "image/png": "[encoded data removed]",
      "text/plain": [
       "<Figure size 1080x1080 with 1 Axes>"
      ]
     },
     "metadata": {
      "needs_background": "light"
     },
     "output_type": "display_data"
    },
    {
     "name": "stdout",
     "output_type": "stream",
     "text": [
      "cristest.png\n"
     ]
    }
   ],
   "source": [
    "main()"
   ]
  }
 ],
 "metadata": {
  "kernelspec": {
   "display_name": "Python 3",
   "language": "python",
   "name": "python3"
  },
  "language_info": {
   "codemirror_mode": {
    "name": "ipython",
    "version": 3
   },
   "file_extension": ".py",
   "mimetype": "text/x-python",
   "name": "python",
   "nbconvert_exporter": "python",
   "pygments_lexer": "ipython3",
   "version": "3.8.5"
  }
 },
 "nbformat": 4,
 "nbformat_minor": 4
}
